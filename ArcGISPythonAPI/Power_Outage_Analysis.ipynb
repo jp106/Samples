{
 "cells": [
  {
   "cell_type": "markdown",
   "metadata": {},
   "source": [
    "## Based on 15 years (2002-2017) of power outage data, predict highest outage event type in 2018/2017, before an electric disturbance is reported so as to prevent aftermath effects and prepared and have minimal effects. \n",
    "\n",
    "Develop a prediction model in Python for power outage detection using supervised learning. "
   ]
  },
  {
   "cell_type": "markdown",
   "metadata": {},
   "source": [
    "\n",
    "### 1. Create empty dataframe object\n",
    "\n"
   ]
  },
  {
   "cell_type": "code",
   "execution_count": 164,
   "metadata": {},
   "outputs": [],
   "source": [
    "import pandas as pd\n",
    "import calendar\n",
    "\n",
    "combined = pd.DataFrame()"
   ]
  },
  {
   "cell_type": "markdown",
   "metadata": {},
   "source": [
    "## 2. Download Electric disturbances annual summaries from [here](http://www.oe.netl.doe.gov/OE417_annual_summary.aspx)\n",
    "\n",
    "Note: You can download clean data from [here (Google Spreadsheet)](http://insideenergy.org/2014/08/18/data-explore-15-years-of-power-outages/) for 2002-2014 or [CSV](https://docs.google.com/spreadsheets/d/1AdxhulfM9jeqviIZihuODqk7HoS1kRUlM_afIKXAjXQ/edit#gid=595041757). "
   ]
  },
  {
   "cell_type": "markdown",
   "metadata": {},
   "source": [
    "## 3. Check for data inconsistencies\n",
    "\n"
   ]
  },
  {
   "cell_type": "markdown",
   "metadata": {},
   "source": [
    "#### Note: When reading file with read_excel this message is displayed:  WARNING:  *** file size (48323) not 512 + multiple of sector size (512).\n",
    "To avoid this warning, open downloaded files in MS Excel, enable editing and save."
   ]
  },
  {
   "cell_type": "code",
   "execution_count": 133,
   "metadata": {},
   "outputs": [
    {
     "name": "stdout",
     "output_type": "stream",
     "text": [
      "2002 : 8, isnull: True\n",
      "2003 : 8, isnull: True\n",
      "2004 : 8, isnull: True\n",
      "2005 : 8, isnull: True\n",
      "2006 : 8, isnull: True\n",
      "2007 : 8, isnull: True\n",
      "2008 : 8, isnull: True\n",
      "2009 : 8, isnull: True\n",
      "2010 : 8, isnull: True\n",
      "2011 : 9, isnull: True\n",
      "2012 : 9, isnull: True\n",
      "2013 : 9, isnull: True\n",
      "2014 : 9, isnull: True\n",
      "2015 : 11, isnull: True\n",
      "2016 : 11, isnull: True\n",
      "2017 : 11, isnull: False\n"
     ]
    }
   ],
   "source": [
    "for year in range(2002, 2018):\n",
    "        df = \"\"        \n",
    "        file_path = \"C:\\downloadedfrompython\\{0}_Annual_Summary.xls\".format(year)\n",
    "        try:\n",
    "            df = pd.read_excel(file_path)\n",
    "            \n",
    "            print (\"{0} : {1}, isnull: {2}\".format(year, len(df.columns), \n",
    "                                                   df.isnull().values.any()))\n",
    "        except Exception as e:\n",
    "            print(e)        "
   ]
  },
  {
   "cell_type": "markdown",
   "metadata": {},
   "source": [
    "Note: The column number and null data varies by year. So group files by same number of columns and prepare excel file accordingly."
   ]
  },
  {
   "cell_type": "markdown",
   "metadata": {},
   "source": [
    "# 3. Clean Data to make it conistent"
   ]
  },
  {
   "cell_type": "markdown",
   "metadata": {},
   "source": [
    "Based on the number of columns from above files will be grouped into :\n",
    "* 2002 to 2010\n",
    "* 2011 to 2014\n",
    "* 2015 to 2017\n",
    "\n",
    "\n",
    "\n"
   ]
  },
  {
   "cell_type": "markdown",
   "metadata": {},
   "source": [
    "### 3.1 Clean data from 2002 - 2010"
   ]
  },
  {
   "cell_type": "markdown",
   "metadata": {},
   "source": [
    "### Observe data"
   ]
  },
  {
   "cell_type": "code",
   "execution_count": 359,
   "metadata": {
    "collapsed": true
   },
   "outputs": [
    {
     "name": "stdout",
     "output_type": "stream",
     "text": [
      "2002 : 8, isnull: True\n",
      "Index(['Date', 'NERC Region', 'Time', 'Area', 'Type of Disturbance',\n",
      "       'Loss (megawatts)', 'Number of Customers Affected', 'Restoration Time'],\n",
      "      dtype='object')\n",
      "2003 : 8, isnull: True\n",
      "Index(['Date', 'NERC Region', 'Time', 'Area Affected', 'Type of Disturbance',\n",
      "       'Loss (megawatts)', 'Number of Customers Affected 1', 'Restoration'],\n",
      "      dtype='object')\n",
      "2004 : 8, isnull: True\n",
      "Index(['Date', 'NERC Region', 'Time', 'Area Affected', 'Type of Disturbance',\n",
      "       'Loss (megawatts)', 'Number of Customers Affected 1', 'Restoration'],\n",
      "      dtype='object')\n",
      "2005 : 8, isnull: True\n",
      "Index(['Date', 'NERC Region', 'Time', 'Area Affected', 'Type of Disturbance',\n",
      "       'Loss (megawatts)', 'Number of Customers Affected 1', 'Restoration'],\n",
      "      dtype='object')\n",
      "2006 : 8, isnull: True\n",
      "Index(['Date', 'NERC Region', 'Time', 'Area Affected', 'Type of Disturbance',\n",
      "       'Loss (megawatts)', 'Number of Customers Affected 1', 'Restoration'],\n",
      "      dtype='object')\n",
      "2007 : 8, isnull: True\n",
      "Index(['Date', ' NERC Region', 'Time', 'Area Affected', 'Type of Disturbance',\n",
      "       'Loss (megawatts)', 'Number of Customers Affected 1[1]', 'Restoration'],\n",
      "      dtype='object')\n",
      "2008 : 8, isnull: True\n",
      "Index(['Table B.2.  Major Disturbances and Unusual Occurrences, Year-to-Date through December 2008',\n",
      "       'Unnamed: 1', 'Unnamed: 2', 'Unnamed: 3', 'Unnamed: 4', 'Unnamed: 5',\n",
      "       'Unnamed: 6', 'Unnamed: 7'],\n",
      "      dtype='object')\n",
      "2009 : 8, isnull: True\n",
      "Index(['Date', 'NERC Region', 'Time', 'Area Affected', 'Type of Disturbance',\n",
      "       'Loss (megawatts)', 'Number of Customers Affected 1', 'Restoration'],\n",
      "      dtype='object')\n",
      "2010 : 8, isnull: True\n",
      "Index(['Date', 'NERC Region', 'Time', 'Area Affected', 'Type of Disturbance',\n",
      "       'Loss (megawatts)', 'Number of Customers Affected 1', 'Restoration'],\n",
      "      dtype='object')\n"
     ]
    }
   ],
   "source": [
    "for year in range(2002, 2011):\n",
    "        df = \"\"        \n",
    "        file_path = \"C:\\downloadedfrompython\\{0}_Annual_Summary.xls\".format(year)\n",
    "        try:\n",
    "            df = pd.read_excel(file_path, header=1)\n",
    "            \n",
    "            print (\"{0} : {1}, isnull: {2}\".format(year, len(df.columns), \n",
    "                                                   df.isnull().values.any()))\n",
    "            print (df.columns)\n",
    "        except Exception as e:\n",
    "            print(e)        "
   ]
  },
  {
   "cell_type": "markdown",
   "metadata": {},
   "source": [
    "### Observations\n",
    "1. Column 'NERC Region' is consistent among all years. However, in 2007 the column name is  ' NERC Region', notice the trailing space at the beginning. This will be avoided by setting 'names' property to a standard list of column names. \n",
    "2. In 2008 the first two rows must be skipped because of unnecessary text. \n",
    "3. Rest of the years only first row is skipped hence header index - 1"
   ]
  },
  {
   "cell_type": "markdown",
   "metadata": {},
   "source": [
    "### Steps to clean data:\n",
    "\n",
    "1. Read excel file with the following attributes \n",
    "    1. Set header to 2 if year = 2008 otherwise 1.  \n",
    "    2. Set names  to a list of 8 column names  \n",
    "2. Drop rows that don't have 'Type of Disturbance'\n",
    "3. Drop columns that have all NaN  \n",
    "4. Optional: add new column 'Restoration Date' to split 'Restoration Time' into date and time\n"
   ]
  },
  {
   "cell_type": "code",
   "execution_count": 335,
   "metadata": {
    "collapsed": true
   },
   "outputs": [
    {
     "name": "stdout",
     "output_type": "stream",
     "text": [
      "(24, 8)\n",
      "(24, 8)\n",
      "2002 : 8, isnull: True\n",
      "Index(['Date Event Began', 'NERC Region', 'Time Event Began', 'Area affected',\n",
      "       'Type of Disturbance', 'Demand Loss(MW)', 'Customers affected',\n",
      "       'Restoration Time'],\n",
      "      dtype='object')\n",
      "(64, 8)\n",
      "(64, 8)\n",
      "2003 : 8, isnull: True\n",
      "Index(['Date Event Began', 'NERC Region', 'Time Event Began', 'Area affected',\n",
      "       'Type of Disturbance', 'Demand Loss(MW)', 'Customers affected',\n",
      "       'Restoration Time'],\n",
      "      dtype='object')\n",
      "(97, 8)\n",
      "(97, 8)\n",
      "2004 : 8, isnull: False\n",
      "Index(['Date Event Began', 'NERC Region', 'Time Event Began', 'Area affected',\n",
      "       'Type of Disturbance', 'Demand Loss(MW)', 'Customers affected',\n",
      "       'Restoration Time'],\n",
      "      dtype='object')\n",
      "(89, 8)\n",
      "(89, 8)\n",
      "2005 : 8, isnull: True\n",
      "Index(['Date Event Began', 'NERC Region', 'Time Event Began', 'Area affected',\n",
      "       'Type of Disturbance', 'Demand Loss(MW)', 'Customers affected',\n",
      "       'Restoration Time'],\n",
      "      dtype='object')\n",
      "(94, 8)\n",
      "(94, 8)\n",
      "2006 : 8, isnull: True\n",
      "Index(['Date Event Began', 'NERC Region', 'Time Event Began', 'Area affected',\n",
      "       'Type of Disturbance', 'Demand Loss(MW)', 'Customers affected',\n",
      "       'Restoration Time'],\n",
      "      dtype='object')\n",
      "(80, 8)\n",
      "(80, 8)\n",
      "2007 : 8, isnull: True\n",
      "Index(['Date Event Began', 'NERC Region', 'Time Event Began', 'Area affected',\n",
      "       'Type of Disturbance', 'Demand Loss(MW)', 'Customers affected',\n",
      "       'Restoration Time'],\n",
      "      dtype='object')\n",
      "(154, 8)\n",
      "(154, 8)\n",
      "2008 : 8, isnull: True\n",
      "Index(['Date Event Began', 'NERC Region', 'Time Event Began', 'Area affected',\n",
      "       'Type of Disturbance', 'Demand Loss(MW)', 'Customers affected',\n",
      "       'Restoration Time'],\n",
      "      dtype='object')\n",
      "(99, 8)\n",
      "(99, 8)\n",
      "2009 : 8, isnull: True\n",
      "Index(['Date Event Began', 'NERC Region', 'Time Event Began', 'Area affected',\n",
      "       'Type of Disturbance', 'Demand Loss(MW)', 'Customers affected',\n",
      "       'Restoration Time'],\n",
      "      dtype='object')\n",
      "(126, 8)\n",
      "(126, 8)\n",
      "2010 : 8, isnull: True\n",
      "Index(['Date Event Began', 'NERC Region', 'Time Event Began', 'Area affected',\n",
      "       'Type of Disturbance', 'Demand Loss(MW)', 'Customers affected',\n",
      "       'Restoration Time'],\n",
      "      dtype='object')\n"
     ]
    }
   ],
   "source": [
    "combined_1 = pd.DataFrame()\n",
    "for year in range(2002, 2011):\n",
    "        df1 = \"\"        \n",
    "        file_path = \"C:\\downloadedfrompython\\{0}_Annual_Summary.xls\".format(year)\n",
    "        try:\n",
    "            h = 1\n",
    "            if year == 2008:\n",
    "                h = 2\n",
    "            df1 = pd.read_excel(file_path,header=h, \n",
    "                               names=['Date Event Began', 'NERC Region',\n",
    "                                     'Time Event Began', 'Area affected', \n",
    "                                     'Disturbance Type', 'Demand Loss(MW)',\n",
    "                                     'Customers affected', 'Restoration Time'])\n",
    "            # Drop rows where column 'Type of Disturbance' is NaN\n",
    "            df1 = df1.dropna(axis=0,how='all',subset=['Type of Disturbance'])\n",
    "            print (df1.shape)\n",
    "            df1 = df1.dropna(axis=1,how='all')\n",
    "            print (df1.shape)\n",
    "            print (\"{0} : {1}, isnull: {2}\".format(year, len(df1.columns), \n",
    "                                                   df1.isnull().values.any()))\n",
    "            # Add column Restoration Date to the dataframe\n",
    "            df1['Restoration Date'] = ''\n",
    "            print(df1.columns)\n",
    "        except Exception as e:\n",
    "            print(e)        \n",
    "        combined_1 = combined_1.append(df1, ignore_index=True)        "
   ]
  },
  {
   "cell_type": "code",
   "execution_count": 336,
   "metadata": {
    "scrolled": true
   },
   "outputs": [
    {
     "data": {
      "text/plain": [
       "(827, 8)"
      ]
     },
     "execution_count": 336,
     "metadata": {},
     "output_type": "execute_result"
    }
   ],
   "source": [
    "combined_1.shape"
   ]
  },
  {
   "cell_type": "code",
   "execution_count": 289,
   "metadata": {
    "collapsed": true
   },
   "outputs": [
    {
     "data": {
      "text/html": [
       "<div>\n",
       "<style>\n",
       "    .dataframe thead tr:only-child th {\n",
       "        text-align: right;\n",
       "    }\n",
       "\n",
       "    .dataframe thead th {\n",
       "        text-align: left;\n",
       "    }\n",
       "\n",
       "    .dataframe tbody tr th {\n",
       "        vertical-align: top;\n",
       "    }\n",
       "</style>\n",
       "<table border=\"1\" class=\"dataframe\">\n",
       "  <thead>\n",
       "    <tr style=\"text-align: right;\">\n",
       "      <th></th>\n",
       "      <th>Date Event Began</th>\n",
       "      <th>NERC Region</th>\n",
       "      <th>Time Event Began</th>\n",
       "      <th>Area affected</th>\n",
       "      <th>Type of Disturbance</th>\n",
       "      <th>Demand Loss(MW)</th>\n",
       "      <th>Customers affected</th>\n",
       "      <th>Restoration Time</th>\n",
       "    </tr>\n",
       "  </thead>\n",
       "  <tbody>\n",
       "    <tr>\n",
       "      <th>0</th>\n",
       "      <td>2002-01-30 00:00:00</td>\n",
       "      <td>SPP</td>\n",
       "      <td>06:00:00</td>\n",
       "      <td>Oklahoma</td>\n",
       "      <td>Ice Storm</td>\n",
       "      <td>500</td>\n",
       "      <td>1881134</td>\n",
       "      <td>2002-02-07 12:00:00</td>\n",
       "    </tr>\n",
       "    <tr>\n",
       "      <th>1</th>\n",
       "      <td>2002-01-29 00:00:00</td>\n",
       "      <td>SPP</td>\n",
       "      <td>Evening</td>\n",
       "      <td>Metropolitan Kansas City Area</td>\n",
       "      <td>Ice Storm</td>\n",
       "      <td>500-600</td>\n",
       "      <td>270000</td>\n",
       "      <td>NaN</td>\n",
       "    </tr>\n",
       "    <tr>\n",
       "      <th>2</th>\n",
       "      <td>2002-01-30 00:00:00</td>\n",
       "      <td>SPP</td>\n",
       "      <td>16:00:00</td>\n",
       "      <td>Missouri</td>\n",
       "      <td>Ice Storm</td>\n",
       "      <td>210</td>\n",
       "      <td>95000</td>\n",
       "      <td>2002-02-10 21:00:00</td>\n",
       "    </tr>\n",
       "    <tr>\n",
       "      <th>3</th>\n",
       "      <td>2002-02-27 00:00:00</td>\n",
       "      <td>WSCC</td>\n",
       "      <td>10:48:00</td>\n",
       "      <td>California</td>\n",
       "      <td>Interruption of Firm Load</td>\n",
       "      <td>300</td>\n",
       "      <td>255000</td>\n",
       "      <td>2002-02-27 11:35:00</td>\n",
       "    </tr>\n",
       "    <tr>\n",
       "      <th>4</th>\n",
       "      <td>2002-03-09 00:00:00</td>\n",
       "      <td>ECAR</td>\n",
       "      <td>00:00:00</td>\n",
       "      <td>Lower Peninsula of Michigan</td>\n",
       "      <td>Severe Weather</td>\n",
       "      <td>190</td>\n",
       "      <td>190000</td>\n",
       "      <td>2002-03-11 12:00:00</td>\n",
       "    </tr>\n",
       "  </tbody>\n",
       "</table>\n",
       "</div>"
      ],
      "text/plain": [
       "      Date Event Began NERC Region Time Event Began  \\\n",
       "0  2002-01-30 00:00:00         SPP         06:00:00   \n",
       "1  2002-01-29 00:00:00         SPP          Evening   \n",
       "2  2002-01-30 00:00:00         SPP         16:00:00   \n",
       "3  2002-02-27 00:00:00        WSCC         10:48:00   \n",
       "4  2002-03-09 00:00:00        ECAR         00:00:00   \n",
       "\n",
       "                   Area affected        Type of Disturbance Demand Loss(MW)  \\\n",
       "0                       Oklahoma                  Ice Storm             500   \n",
       "1  Metropolitan Kansas City Area                  Ice Storm         500-600   \n",
       "2                       Missouri                  Ice Storm             210   \n",
       "3                     California  Interruption of Firm Load             300   \n",
       "4    Lower Peninsula of Michigan             Severe Weather             190   \n",
       "\n",
       "  Customers affected     Restoration Time  \n",
       "0            1881134  2002-02-07 12:00:00  \n",
       "1             270000                  NaN  \n",
       "2              95000  2002-02-10 21:00:00  \n",
       "3             255000  2002-02-27 11:35:00  \n",
       "4             190000  2002-03-11 12:00:00  "
      ]
     },
     "execution_count": 289,
     "metadata": {},
     "output_type": "execute_result"
    }
   ],
   "source": [
    "combined_1.head()\n"
   ]
  },
  {
   "cell_type": "markdown",
   "metadata": {},
   "source": [
    "### 3.2 Clean data from 2011 - 2014"
   ]
  },
  {
   "cell_type": "markdown",
   "metadata": {},
   "source": [
    "### Observe data"
   ]
  },
  {
   "cell_type": "code",
   "execution_count": 360,
   "metadata": {},
   "outputs": [
    {
     "name": "stdout",
     "output_type": "stream",
     "text": [
      "2011 : 9, isnull: True\n",
      "Index(['Date Event Began', 'Time Event Began', 'Date of Restoration',\n",
      "       'Time of Restoration', 'Area Affected', 'NERC Region', 'Event Type',\n",
      "       'Demand Loss (MW)', 'Number of Customers Affected'],\n",
      "      dtype='object')\n",
      "2012 : 9, isnull: True\n",
      "Index(['Date Event Began', 'Time Event Began', 'Date of Restoration',\n",
      "       'Time of Restoration', 'Area Affected', 'NERC Region', 'Event Type',\n",
      "       'Demand Loss (MW)', 'Number of Customers Affected'],\n",
      "      dtype='object')\n",
      "2013 : 9, isnull: True\n",
      "Index(['Date Event Began', 'Time Event Began', 'Date of Restoration',\n",
      "       'Time of Restoration', 'Area Affected', 'NERC Region', 'Event Type',\n",
      "       'Demand Loss (MW)', 'Number of Customers Affected'],\n",
      "      dtype='object')\n",
      "2014 : 9, isnull: True\n",
      "Index(['Date Event Began', 'Time Event Began', 'Date of Restoration',\n",
      "       'Time of Restoration', 'Area Affected', 'NERC Region', 'Event Type',\n",
      "       'Demand Loss (MW)', 'Number of Customers Affected'],\n",
      "      dtype='object')\n"
     ]
    }
   ],
   "source": [
    "for year in range(2011, 2015):\n",
    "        df = \"\"        \n",
    "        file_path = \"C:\\downloadedfrompython\\{0}_Annual_Summary.xls\".format(year)\n",
    "        try:\n",
    "            df = pd.read_excel(file_path, header=1)\n",
    "            \n",
    "            print (\"{0} : {1}, isnull: {2}\".format(year, len(df.columns), \n",
    "                                                   df.isnull().values.any()))\n",
    "            print (df.columns)\n",
    "        except Exception as e:\n",
    "            print(e)        "
   ]
  },
  {
   "cell_type": "markdown",
   "metadata": {},
   "source": [
    "### Observations\n",
    "\n",
    "1. This group has 9 columns, which is what we're aiming for\n",
    "2. No missing or unecessary columns\n",
    "3. Data looks clean"
   ]
  },
  {
   "cell_type": "markdown",
   "metadata": {},
   "source": [
    "## Steps to clean data:\n",
    "\n",
    "1. Read excel file with the following attributes \n",
    "    1. Set header to 1  \n",
    "    2. Set names  to a list of 9 column names  \n",
    "2. Drop rows that don't have 'Type of Disturbance'\n",
    "3. Drop columns that have all NaN  "
   ]
  },
  {
   "cell_type": "code",
   "execution_count": 333,
   "metadata": {
    "collapsed": true
   },
   "outputs": [
    {
     "name": "stdout",
     "output_type": "stream",
     "text": [
      "(307, 9)\n",
      "(307, 9)\n",
      "2011 : 9, isnull: True\n",
      "Index(['Date Event Began', 'Time Event Began', 'Restoration Date',\n",
      "       'Restoration Time', 'Area affected', 'NERC Region',\n",
      "       'Type of Disturbance', 'Demand Loss(MW)', 'Customers affected'],\n",
      "      dtype='object')\n",
      "(203, 9)\n",
      "(203, 9)\n",
      "2012 : 9, isnull: True\n",
      "Index(['Date Event Began', 'Time Event Began', 'Restoration Date',\n",
      "       'Restoration Time', 'Area affected', 'NERC Region',\n",
      "       'Type of Disturbance', 'Demand Loss(MW)', 'Customers affected'],\n",
      "      dtype='object')\n",
      "(174, 9)\n",
      "(174, 9)\n",
      "2013 : 9, isnull: True\n",
      "Index(['Date Event Began', 'Time Event Began', 'Restoration Date',\n",
      "       'Restoration Time', 'Area affected', 'NERC Region',\n",
      "       'Type of Disturbance', 'Demand Loss(MW)', 'Customers affected'],\n",
      "      dtype='object')\n",
      "(214, 9)\n",
      "(214, 9)\n",
      "2014 : 9, isnull: True\n",
      "Index(['Date Event Began', 'Time Event Began', 'Restoration Date',\n",
      "       'Restoration Time', 'Area affected', 'NERC Region',\n",
      "       'Type of Disturbance', 'Demand Loss(MW)', 'Customers affected'],\n",
      "      dtype='object')\n"
     ]
    }
   ],
   "source": [
    "combined_2 = pd.DataFrame()\n",
    "for year in range(2011, 2015):\n",
    "        df2 = \"\"        \n",
    "        path = \"C:\\downloadedfrompython\\{0}_Annual_Summary.xls\".format(year)        \n",
    "        try:\n",
    "            df2 = pd.read_excel(path, header=1,\n",
    "                               names=['Date Event Began', \n",
    "                                     'Time Event Began',\n",
    "                                      'Restoration Date','Restoration Time',\n",
    "                                      'Area affected', 'NERC Region',\n",
    "                                     'Disturbance Type', 'Demand Loss(MW)',\n",
    "                                     'Customers affected'])\n",
    "            # Drop rows where column 'Type of Disturbance' is NaN\n",
    "            df2 = df2.dropna(axis=0,how='all',subset=['Type of Disturbance'])\n",
    "            print (df2.shape)\n",
    "            df2 = df2.dropna(axis=1,how='all')\n",
    "            print (df2.shape)\n",
    "            print (\"{0} : {1}, isnull: {2}\".format(year, len(df2.columns), \n",
    "                                                   df2.isnull().values.any()))\n",
    "            print(df2.columns)\n",
    "        except Exception as e:\n",
    "            print(e)        \n",
    "        combined_2 = combined_2.append(df2, ignore_index=True)        "
   ]
  },
  {
   "cell_type": "code",
   "execution_count": 334,
   "metadata": {},
   "outputs": [
    {
     "data": {
      "text/plain": [
       "(898, 9)"
      ]
     },
     "execution_count": 334,
     "metadata": {},
     "output_type": "execute_result"
    }
   ],
   "source": [
    "combined_2.shape"
   ]
  },
  {
   "cell_type": "code",
   "execution_count": 308,
   "metadata": {
    "collapsed": true
   },
   "outputs": [
    {
     "data": {
      "text/html": [
       "<div>\n",
       "<style>\n",
       "    .dataframe thead tr:only-child th {\n",
       "        text-align: right;\n",
       "    }\n",
       "\n",
       "    .dataframe thead th {\n",
       "        text-align: left;\n",
       "    }\n",
       "\n",
       "    .dataframe tbody tr th {\n",
       "        vertical-align: top;\n",
       "    }\n",
       "</style>\n",
       "<table border=\"1\" class=\"dataframe\">\n",
       "  <thead>\n",
       "    <tr style=\"text-align: right;\">\n",
       "      <th></th>\n",
       "      <th>Date Event Began</th>\n",
       "      <th>Time Event Began</th>\n",
       "      <th>Restoration Date</th>\n",
       "      <th>Restoration Time</th>\n",
       "      <th>Area affected</th>\n",
       "      <th>NERC Region</th>\n",
       "      <th>Type of Disturbance</th>\n",
       "      <th>Demand Loss(MW)</th>\n",
       "      <th>Customers affected</th>\n",
       "    </tr>\n",
       "  </thead>\n",
       "  <tbody>\n",
       "    <tr>\n",
       "      <th>893</th>\n",
       "      <td>2014-12-11 00:00:00</td>\n",
       "      <td>16:05:00</td>\n",
       "      <td>2014-12-11 00:00:00</td>\n",
       "      <td>21:00:00</td>\n",
       "      <td>Portland, Oregon</td>\n",
       "      <td>WECC</td>\n",
       "      <td>Severe Weather- High Winds</td>\n",
       "      <td>250</td>\n",
       "      <td>85470</td>\n",
       "    </tr>\n",
       "    <tr>\n",
       "      <th>894</th>\n",
       "      <td>2014-12-11 00:00:00</td>\n",
       "      <td>17:00:00</td>\n",
       "      <td>2014-12-12 00:00:00</td>\n",
       "      <td>10:00:00</td>\n",
       "      <td>Kitsap, Thurston, Whatcom counties Washington</td>\n",
       "      <td>WECC</td>\n",
       "      <td>Severe Weather- High Winds</td>\n",
       "      <td>116</td>\n",
       "      <td>264000</td>\n",
       "    </tr>\n",
       "    <tr>\n",
       "      <th>895</th>\n",
       "      <td>2014-12-17 00:00:00</td>\n",
       "      <td>11:00:00</td>\n",
       "      <td>2014-12-17 00:00:00</td>\n",
       "      <td>12:15:00</td>\n",
       "      <td>Washington</td>\n",
       "      <td>WECC</td>\n",
       "      <td>Suspected Physical Attack</td>\n",
       "      <td>Unknown</td>\n",
       "      <td>Unknown</td>\n",
       "    </tr>\n",
       "    <tr>\n",
       "      <th>896</th>\n",
       "      <td>2014-12-30 00:00:00</td>\n",
       "      <td>15:50:00</td>\n",
       "      <td>2014-12-31 00:00:00</td>\n",
       "      <td>11:00:00</td>\n",
       "      <td>New Hampshire, Massachusetts, Maine, Rhode Isl...</td>\n",
       "      <td>NPCC</td>\n",
       "      <td>Suspected Cyber Attack</td>\n",
       "      <td>Unknown</td>\n",
       "      <td>Unknown</td>\n",
       "    </tr>\n",
       "    <tr>\n",
       "      <th>897</th>\n",
       "      <td>2014-12-30 00:00:00</td>\n",
       "      <td>13:08:00</td>\n",
       "      <td>2015-01-01 00:00:00</td>\n",
       "      <td>16:50:00</td>\n",
       "      <td>Northern California</td>\n",
       "      <td>WECC</td>\n",
       "      <td>Severe Weather- High Winds</td>\n",
       "      <td>127</td>\n",
       "      <td>84500</td>\n",
       "    </tr>\n",
       "  </tbody>\n",
       "</table>\n",
       "</div>"
      ],
      "text/plain": [
       "        Date Event Began Time Event Began     Restoration Date  \\\n",
       "893  2014-12-11 00:00:00         16:05:00  2014-12-11 00:00:00   \n",
       "894  2014-12-11 00:00:00         17:00:00  2014-12-12 00:00:00   \n",
       "895  2014-12-17 00:00:00         11:00:00  2014-12-17 00:00:00   \n",
       "896  2014-12-30 00:00:00         15:50:00  2014-12-31 00:00:00   \n",
       "897  2014-12-30 00:00:00         13:08:00  2015-01-01 00:00:00   \n",
       "\n",
       "    Restoration Time                                      Area affected  \\\n",
       "893         21:00:00                                   Portland, Oregon   \n",
       "894         10:00:00      Kitsap, Thurston, Whatcom counties Washington   \n",
       "895         12:15:00                                         Washington   \n",
       "896         11:00:00  New Hampshire, Massachusetts, Maine, Rhode Isl...   \n",
       "897         16:50:00                                Northern California   \n",
       "\n",
       "    NERC Region         Type of Disturbance Demand Loss(MW) Customers affected  \n",
       "893        WECC  Severe Weather- High Winds             250              85470  \n",
       "894        WECC  Severe Weather- High Winds             116             264000  \n",
       "895        WECC   Suspected Physical Attack         Unknown            Unknown  \n",
       "896        NPCC      Suspected Cyber Attack         Unknown            Unknown  \n",
       "897        WECC  Severe Weather- High Winds             127              84500  "
      ]
     },
     "execution_count": 308,
     "metadata": {},
     "output_type": "execute_result"
    }
   ],
   "source": [
    "combined_2.tail()"
   ]
  },
  {
   "cell_type": "markdown",
   "metadata": {},
   "source": [
    "### 3.3 Clean data from 2015 - 2017"
   ]
  },
  {
   "cell_type": "markdown",
   "metadata": {},
   "source": [
    "#### Observe data"
   ]
  },
  {
   "cell_type": "code",
   "execution_count": 355,
   "metadata": {},
   "outputs": [
    {
     "name": "stdout",
     "output_type": "stream",
     "text": [
      "2015 : 11, isnull: True\n",
      "Index(['Month', 'Date Event Began', 'Time Event Began', 'Date of Restoration',\n",
      "       'Time of Restoration', 'Area Affected', 'NERC Region', 'Alert Criteria',\n",
      "       'Event Type', 'Demand Loss (MW)', 'Number of Customers Affected'],\n",
      "      dtype='object')\n",
      "2016 : 11, isnull: True\n",
      "Index(['Month', 'Date Event Began', 'Time Event Began', 'Date of Restoration',\n",
      "       'Time of Restoration', 'Area Affected', 'NERC Region', 'Alert Criteria',\n",
      "       'Event Type', 'Demand Loss (MW)', 'Number of Customers Affected'],\n",
      "      dtype='object')\n",
      "2017 : 11, isnull: False\n",
      "Index(['Month', 'Date Event Began', 'Time Event Began', 'Date of Restoration',\n",
      "       'Time of Restoration', 'Area Affected', 'NERC Region', 'Alert Criteria',\n",
      "       'Event Type', 'Demand Loss (MW)', 'Number of Customers Affected'],\n",
      "      dtype='object')\n"
     ]
    }
   ],
   "source": [
    "for year in range(2015, 2018):\n",
    "        df = \"\"        \n",
    "        file_path = \"C:\\downloadedfrompython\\{0}_Annual_Summary.xls\".format(year)\n",
    "        try:\n",
    "            df = pd.read_excel(file_path,header=1)\n",
    "            \n",
    "            print (\"{0} : {1}, isnull: {2}\".format(year, len(df.columns), \n",
    "                                                   df.isnull().values.any()))\n",
    "            print(df.columns)\n",
    "        except Exception as e:\n",
    "            print(e)        "
   ]
  },
  {
   "cell_type": "markdown",
   "metadata": {},
   "source": [
    "### Observations \n",
    "\n",
    "1. This group has 11 columns. 2 additional columns 'Month' and 'Alert Criteria' can be dropped."
   ]
  },
  {
   "cell_type": "markdown",
   "metadata": {},
   "source": [
    "### Steps to clean data:\n",
    "\n",
    "1. Read excel file with the following attributes \n",
    "    1. Set header to 1\n",
    "    2. Parse columns other than 'Month' and 'Alert Criteria' \n",
    "    3. Set names  to a list of 9 column names\n",
    "2. Drop rows that don't have 'Type of Disturbance'\n",
    "3. Drop columns that have all NaN"
   ]
  },
  {
   "cell_type": "code",
   "execution_count": 337,
   "metadata": {
    "collapsed": true
   },
   "outputs": [
    {
     "name": "stdout",
     "output_type": "stream",
     "text": [
      "(143, 9)\n",
      "(143, 9)\n",
      "2015 : 9, isnull: True\n",
      "Index(['Date Event Began', 'Time Event Began', 'Restoration Date',\n",
      "       'Restoration Time', 'Area affected', 'NERC Region',\n",
      "       'Type of Disturbance', 'Demand Loss(MW)', 'Customers affected'],\n",
      "      dtype='object')\n",
      "(141, 9)\n",
      "(141, 9)\n",
      "2016 : 9, isnull: True\n",
      "Index(['Date Event Began', 'Time Event Began', 'Restoration Date',\n",
      "       'Restoration Time', 'Area affected', 'NERC Region',\n",
      "       'Type of Disturbance', 'Demand Loss(MW)', 'Customers affected'],\n",
      "      dtype='object')\n",
      "(49, 9)\n",
      "(49, 9)\n",
      "2017 : 9, isnull: False\n",
      "Index(['Date Event Began', 'Time Event Began', 'Restoration Date',\n",
      "       'Restoration Time', 'Area affected', 'NERC Region',\n",
      "       'Type of Disturbance', 'Demand Loss(MW)', 'Customers affected'],\n",
      "      dtype='object')\n"
     ]
    }
   ],
   "source": [
    "combined_3 = pd.DataFrame()\n",
    "for year in range(2015, 2018):\n",
    "        df3 = \"\"        \n",
    "        path = \"C:\\downloadedfrompython\\{0}_Annual_Summary.xls\".format(year)        \n",
    "        try:\n",
    "            df3 = pd.read_excel(path, header=1,parse_cols='B:G,I:K',\n",
    "                               names=['Date Event Began', \n",
    "                                     'Time Event Began',\n",
    "                                      'Restoration Date','Restoration Time',\n",
    "                                      'Area affected', 'NERC Region',\n",
    "                                     'Disturbance Type', 'Demand Loss(MW)',\n",
    "                                     'Customers affected'])\n",
    "            # Drop rows where column 'Type of Disturbance' is NaN\n",
    "            df3 = df3.dropna(axis=0,how='all',subset=['Type of Disturbance'])\n",
    "            print (df3.shape)\n",
    "            df2 = df3.dropna(axis=1,how='all')\n",
    "            print (df3.shape)\n",
    "            print (\"{0} : {1}, isnull: {2}\".format(year, len(df3.columns), \n",
    "                                                   df3.isnull().values.any()))\n",
    "            print(df3.columns)\n",
    "        except Exception as e:\n",
    "            print(e)        \n",
    "        combined_3 = combined_3.append(df3, ignore_index=True)        "
   ]
  },
  {
   "cell_type": "code",
   "execution_count": 340,
   "metadata": {},
   "outputs": [
    {
     "data": {
      "text/plain": [
       "(333, 9)"
      ]
     },
     "execution_count": 340,
     "metadata": {},
     "output_type": "execute_result"
    }
   ],
   "source": [
    "combined_3.shape"
   ]
  },
  {
   "cell_type": "code",
   "execution_count": 341,
   "metadata": {},
   "outputs": [
    {
     "data": {
      "text/html": [
       "<div>\n",
       "<style>\n",
       "    .dataframe thead tr:only-child th {\n",
       "        text-align: right;\n",
       "    }\n",
       "\n",
       "    .dataframe thead th {\n",
       "        text-align: left;\n",
       "    }\n",
       "\n",
       "    .dataframe tbody tr th {\n",
       "        vertical-align: top;\n",
       "    }\n",
       "</style>\n",
       "<table border=\"1\" class=\"dataframe\">\n",
       "  <thead>\n",
       "    <tr style=\"text-align: right;\">\n",
       "      <th></th>\n",
       "      <th>Date Event Began</th>\n",
       "      <th>Time Event Began</th>\n",
       "      <th>Restoration Date</th>\n",
       "      <th>Restoration Time</th>\n",
       "      <th>Area affected</th>\n",
       "      <th>NERC Region</th>\n",
       "      <th>Type of Disturbance</th>\n",
       "      <th>Demand Loss(MW)</th>\n",
       "      <th>Customers affected</th>\n",
       "    </tr>\n",
       "  </thead>\n",
       "  <tbody>\n",
       "    <tr>\n",
       "      <th>0</th>\n",
       "      <td>2015-01-07 00:00:00</td>\n",
       "      <td>17:00:00</td>\n",
       "      <td>2015-01-08 00:00:00</td>\n",
       "      <td>08:35:00</td>\n",
       "      <td>Tennessee</td>\n",
       "      <td>SERC</td>\n",
       "      <td>Severe Weather - Winter</td>\n",
       "      <td>Unknown</td>\n",
       "      <td>Unknown</td>\n",
       "    </tr>\n",
       "  </tbody>\n",
       "</table>\n",
       "</div>"
      ],
      "text/plain": [
       "      Date Event Began Time Event Began     Restoration Date Restoration Time  \\\n",
       "0  2015-01-07 00:00:00         17:00:00  2015-01-08 00:00:00         08:35:00   \n",
       "\n",
       "  Area affected NERC Region      Type of Disturbance Demand Loss(MW)  \\\n",
       "0     Tennessee        SERC  Severe Weather - Winter         Unknown   \n",
       "\n",
       "  Customers affected  \n",
       "0            Unknown  "
      ]
     },
     "execution_count": 341,
     "metadata": {},
     "output_type": "execute_result"
    }
   ],
   "source": [
    "combined_3.head(1)"
   ]
  },
  {
   "cell_type": "markdown",
   "metadata": {},
   "source": [
    "## 4. Merge data from 2002-2017"
   ]
  },
  {
   "cell_type": "code",
   "execution_count": 347,
   "metadata": {},
   "outputs": [
    {
     "data": {
      "text/plain": [
       "(2058, 9)"
      ]
     },
     "execution_count": 347,
     "metadata": {},
     "output_type": "execute_result"
    }
   ],
   "source": [
    "combined = pd.DataFrame()\n",
    "combined = combined.append(combined_1,ignore_index=True)\n",
    "combined = combined.append(combined_2,ignore_index=True)\n",
    "combined = combined.append(combined_3,ignore_index=True)\n",
    "combined.shape"
   ]
  },
  {
   "cell_type": "code",
   "execution_count": 350,
   "metadata": {},
   "outputs": [
    {
     "data": {
      "text/html": [
       "<div>\n",
       "<style>\n",
       "    .dataframe thead tr:only-child th {\n",
       "        text-align: right;\n",
       "    }\n",
       "\n",
       "    .dataframe thead th {\n",
       "        text-align: left;\n",
       "    }\n",
       "\n",
       "    .dataframe tbody tr th {\n",
       "        vertical-align: top;\n",
       "    }\n",
       "</style>\n",
       "<table border=\"1\" class=\"dataframe\">\n",
       "  <thead>\n",
       "    <tr style=\"text-align: right;\">\n",
       "      <th></th>\n",
       "      <th>Area affected</th>\n",
       "      <th>Customers affected</th>\n",
       "      <th>Date Event Began</th>\n",
       "      <th>Demand Loss(MW)</th>\n",
       "      <th>NERC Region</th>\n",
       "      <th>Restoration Date</th>\n",
       "      <th>Restoration Time</th>\n",
       "      <th>Time Event Began</th>\n",
       "      <th>Type of Disturbance</th>\n",
       "    </tr>\n",
       "  </thead>\n",
       "  <tbody>\n",
       "    <tr>\n",
       "      <th>0</th>\n",
       "      <td>Oklahoma</td>\n",
       "      <td>1881134</td>\n",
       "      <td>2002-01-30 00:00:00</td>\n",
       "      <td>500</td>\n",
       "      <td>SPP</td>\n",
       "      <td>NaN</td>\n",
       "      <td>2002-02-07 12:00:00</td>\n",
       "      <td>06:00:00</td>\n",
       "      <td>Ice Storm</td>\n",
       "    </tr>\n",
       "    <tr>\n",
       "      <th>1</th>\n",
       "      <td>Metropolitan Kansas City Area</td>\n",
       "      <td>270000</td>\n",
       "      <td>2002-01-29 00:00:00</td>\n",
       "      <td>500-600</td>\n",
       "      <td>SPP</td>\n",
       "      <td>NaN</td>\n",
       "      <td>NaN</td>\n",
       "      <td>Evening</td>\n",
       "      <td>Ice Storm</td>\n",
       "    </tr>\n",
       "    <tr>\n",
       "      <th>2</th>\n",
       "      <td>Missouri</td>\n",
       "      <td>95000</td>\n",
       "      <td>2002-01-30 00:00:00</td>\n",
       "      <td>210</td>\n",
       "      <td>SPP</td>\n",
       "      <td>NaN</td>\n",
       "      <td>2002-02-10 21:00:00</td>\n",
       "      <td>16:00:00</td>\n",
       "      <td>Ice Storm</td>\n",
       "    </tr>\n",
       "    <tr>\n",
       "      <th>3</th>\n",
       "      <td>California</td>\n",
       "      <td>255000</td>\n",
       "      <td>2002-02-27 00:00:00</td>\n",
       "      <td>300</td>\n",
       "      <td>WSCC</td>\n",
       "      <td>NaN</td>\n",
       "      <td>2002-02-27 11:35:00</td>\n",
       "      <td>10:48:00</td>\n",
       "      <td>Interruption of Firm Load</td>\n",
       "    </tr>\n",
       "    <tr>\n",
       "      <th>4</th>\n",
       "      <td>Lower Peninsula of Michigan</td>\n",
       "      <td>190000</td>\n",
       "      <td>2002-03-09 00:00:00</td>\n",
       "      <td>190</td>\n",
       "      <td>ECAR</td>\n",
       "      <td>NaN</td>\n",
       "      <td>2002-03-11 12:00:00</td>\n",
       "      <td>00:00:00</td>\n",
       "      <td>Severe Weather</td>\n",
       "    </tr>\n",
       "  </tbody>\n",
       "</table>\n",
       "</div>"
      ],
      "text/plain": [
       "                   Area affected Customers affected     Date Event Began  \\\n",
       "0                       Oklahoma            1881134  2002-01-30 00:00:00   \n",
       "1  Metropolitan Kansas City Area             270000  2002-01-29 00:00:00   \n",
       "2                       Missouri              95000  2002-01-30 00:00:00   \n",
       "3                     California             255000  2002-02-27 00:00:00   \n",
       "4    Lower Peninsula of Michigan             190000  2002-03-09 00:00:00   \n",
       "\n",
       "  Demand Loss(MW) NERC Region Restoration Date     Restoration Time  \\\n",
       "0             500         SPP              NaN  2002-02-07 12:00:00   \n",
       "1         500-600         SPP              NaN                  NaN   \n",
       "2             210         SPP              NaN  2002-02-10 21:00:00   \n",
       "3             300        WSCC              NaN  2002-02-27 11:35:00   \n",
       "4             190        ECAR              NaN  2002-03-11 12:00:00   \n",
       "\n",
       "  Time Event Began        Type of Disturbance  \n",
       "0         06:00:00                  Ice Storm  \n",
       "1          Evening                  Ice Storm  \n",
       "2         16:00:00                  Ice Storm  \n",
       "3         10:48:00  Interruption of Firm Load  \n",
       "4         00:00:00             Severe Weather  "
      ]
     },
     "execution_count": 350,
     "metadata": {},
     "output_type": "execute_result"
    }
   ],
   "source": [
    "combined.head()"
   ]
  },
  {
   "cell_type": "markdown",
   "metadata": {},
   "source": [
    "### To download this notebook in Latex or pdfLatex install these two libraries from conda"
   ]
  }
 ],
 "metadata": {
  "kernelspec": {
   "display_name": "Python 3",
   "language": "python",
   "name": "python3"
  },
  "language_info": {
   "codemirror_mode": {
    "name": "ipython",
    "version": 3
   },
   "file_extension": ".py",
   "mimetype": "text/x-python",
   "name": "python",
   "nbconvert_exporter": "python",
   "pygments_lexer": "ipython3",
   "version": "3.5.2"
  }
 },
 "nbformat": 4,
 "nbformat_minor": 1
}
